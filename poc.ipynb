{
 "cells": [
  {
   "cell_type": "markdown",
   "metadata": {},
   "source": [
    "* https://langchain-ai.github.io/langgraph/tutorials/introduction/\n",
    "* https://langchain-ai.github.io/langgraph/how-tos/subgraph/#define-subgraphs "
   ]
  },
  {
   "cell_type": "code",
   "execution_count": 1,
   "metadata": {},
   "outputs": [
    {
     "data": {
      "text/plain": [
       "True"
      ]
     },
     "execution_count": 1,
     "metadata": {},
     "output_type": "execute_result"
    }
   ],
   "source": [
    "from dotenv import load_dotenv\n",
    "\n",
    "load_dotenv() \n"
   ]
  },
  {
   "cell_type": "code",
   "execution_count": 2,
   "metadata": {},
   "outputs": [],
   "source": [
    "from graph_builders import create_default_casual_chatbot_graph_builder \n",
    "\n",
    "basic_casual_chatbot_graph = create_default_casual_chatbot_graph_builder() \n",
    "\n",
    "basic_casual_chatbot = basic_casual_chatbot_graph.compile() "
   ]
  },
  {
   "cell_type": "code",
   "execution_count": 4,
   "metadata": {},
   "outputs": [
    {
     "data": {
      "text/plain": [
       "<langgraph.graph.state.StateGraph at 0x2544900a440>"
      ]
     },
     "execution_count": 4,
     "metadata": {},
     "output_type": "execute_result"
    }
   ],
   "source": [
    "from data_definitions import ReasoningState \n",
    "from chains import create_chain_for_judging_the_need_of_reasoning \n",
    "\n",
    "chain_4_judging_the_need_of_reasoning = create_chain_for_judging_the_need_of_reasoning(llm) \n",
    "\n",
    "def judge_the_need_of_rigorousness (state :ReasoningState) -> ReasoningState: \n",
    "    old_messages = state[\"messages\"]\n",
    "    assert(len(old_messages) > 0)\n",
    "\n",
    "    last_user_message = old_messages[-1]\n",
    "    judgement = chain_4_judging_the_need_of_reasoning.invoke({\"input\": last_user_message})\n",
    "    assert(type(judgement) is bool)\n",
    "\n",
    "    print(f\"{judgement = }\")\n",
    "\n",
    "    if (judgement): \n",
    "        return {\n",
    "            \"messages\": old_messages\n",
    "        }\n",
    "    \n",
    "    else: \n",
    "        casual_llm_answer = llm.invoke(old_messages)\n",
    "        return {\n",
    "            \"messages\": old_messages + [casual_llm_answer]\n",
    "        }\n",
    "\n",
    "graph_builder.add_node(\"judge_the_need_of_rigorousness\", judge_the_need_of_rigorousness)"
   ]
  },
  {
   "cell_type": "code",
   "execution_count": 5,
   "metadata": {},
   "outputs": [],
   "source": [
    "# graph_builder.add_edge(START, \"judge_the_need_of_rigorousness\")\n",
    "# graph_builder.add_edge(\"judge_the_need_of_rigorousness\", END)\n",
    "# llm_graph = graph_builder.compile() "
   ]
  },
  {
   "cell_type": "code",
   "execution_count": 3,
   "metadata": {},
   "outputs": [
    {
     "data": {
      "image/jpeg": "[encoded data removed]",
      "text/plain": [
       "<IPython.core.display.Image object>"
      ]
     },
     "metadata": {},
     "output_type": "display_data"
    }
   ],
   "source": [
    "from IPython.display import Image, display\n",
    "\n",
    "try:\n",
    "    display(Image(basic_casual_chatbot.get_graph().draw_mermaid_png()))\n",
    "except Exception:\n",
    "    # This requires some extra dependencies and is optional\n",
    "    pass"
   ]
  },
  {
   "cell_type": "code",
   "execution_count": 6,
   "metadata": {},
   "outputs": [
    {
     "name": "stdout",
     "output_type": "stream",
     "text": [
      "Assistant: I'm just a computer program, so I don't have feelings or emotions, but I'm here to help you with anything you need. How can I assist you today?\n",
      "Goodbye!\n"
     ]
    }
   ],
   "source": [
    "def stream_graph_updates(user_input: str):\n",
    "    for event in basic_casual_chatbot.stream({\"messages\": [(\"user\", user_input)]}):\n",
    "        for value in event.values():\n",
    "            print(\"Assistant:\", value[\"messages\"][-1].content)\n",
    "\n",
    "while True:\n",
    "    user_input = input(\"User: \")\n",
    "    if user_input.lower() in [\"quit\", \"exit\", \"q\"]:\n",
    "        print(\"Goodbye!\")\n",
    "        break\n",
    "\n",
    "    stream_graph_updates(user_input)"
   ]
  },
  {
   "cell_type": "code",
   "execution_count": null,
   "metadata": {},
   "outputs": [],
   "source": []
  }
 ],
 "metadata": {
  "kernelspec": {
   "display_name": "Python 3",
   "language": "python",
   "name": "python3"
  },
  "language_info": {
   "codemirror_mode": {
    "name": "ipython",
    "version": 3
   },
   "file_extension": ".py",
   "mimetype": "text/x-python",
   "name": "python",
   "nbconvert_exporter": "python",
   "pygments_lexer": "ipython3",
   "version": "3.10.6"
  }
 },
 "nbformat": 4,
 "nbformat_minor": 2
}
